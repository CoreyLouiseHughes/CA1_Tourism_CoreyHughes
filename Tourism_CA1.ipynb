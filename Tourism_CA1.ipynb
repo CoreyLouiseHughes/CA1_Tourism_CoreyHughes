{
 "cells": [
  {
   "cell_type": "code",
   "execution_count": 1,
   "id": "59cf5c03",
   "metadata": {},
   "outputs": [],
   "source": [
    "#importing all of the libraries that will be needed\n",
    "import pandas as pd \n",
    "import numpy as np\n",
    "import seaborn as sns #visualisation\n",
    "import matplotlib.pyplot as plt #visualisation\n",
    "%matplotlib inline \n",
    "sns.set(color_codes=True)\n",
    "import statistics as stats\n",
    "from IPython.display import display, HTML"
   ]
  },
  {
   "cell_type": "code",
   "execution_count": 2,
   "id": "a0d87a50",
   "metadata": {},
   "outputs": [
    {
     "data": {
      "text/html": [
       "<img src=\"11.jpg\" style=\"width: 310px; margin: 0px; float: left;\" /><img src=\"12.jpg\" style=\"width: 310px; margin: 0px; float: left;\" /><img src=\"13.jpg\" style=\"width: 310px; margin: 0px; float: left;\" />"
      ],
      "text/plain": [
       "<IPython.core.display.HTML object>"
      ]
     },
     "metadata": {},
     "output_type": "display_data"
    }
   ],
   "source": [
    "# Inserting some images that is related to the assignment topic\n",
    "\n",
    "# Paths to my image files\n",
    "image_paths = ['11.jpg', '12.jpg', '13.jpg']\n",
    "\n",
    "# Generate HTML code to display images side by side\n",
    "images_html = ''.join([f'<img src=\"{path}\" style=\"width: 310px; margin: 0px; float: left;\" />' for path in image_paths])\n",
    "\n",
    "# Display HTML code\n",
    "display(HTML(images_html))"
   ]
  },
  {
   "cell_type": "code",
   "execution_count": 3,
   "id": "d91e5909",
   "metadata": {},
   "outputs": [],
   "source": [
    "#Read files from the URL into the pandas DataFrame\n",
    "# make sure to reference where you got the dataswt (CSO - Tourism)\n",
    "url = \"airandtravel1.csv\"\n",
    "df = pd.read_csv(url) "
   ]
  },
  {
   "cell_type": "markdown",
   "id": "dba7bf72",
   "metadata": {},
   "source": [
    "## Where did Ireland's Tourists Come From? Cleaning and Preperation\n",
    "This section will aim use data preperation methods such a `.head()` , `.shape`, `describe`, `info.()` etc to clean and sort the data first"
   ]
  },
  {
   "cell_type": "code",
   "execution_count": 4,
   "id": "a26b6707",
   "metadata": {},
   "outputs": [
    {
     "data": {
      "text/html": [
       "<div>\n",
       "<style scoped>\n",
       "    .dataframe tbody tr th:only-of-type {\n",
       "        vertical-align: middle;\n",
       "    }\n",
       "\n",
       "    .dataframe tbody tr th {\n",
       "        vertical-align: top;\n",
       "    }\n",
       "\n",
       "    .dataframe thead th {\n",
       "        text-align: right;\n",
       "    }\n",
       "</style>\n",
       "<table border=\"1\" class=\"dataframe\">\n",
       "  <thead>\n",
       "    <tr style=\"text-align: right;\">\n",
       "      <th></th>\n",
       "      <th>STATISTIC Label</th>\n",
       "      <th>Year</th>\n",
       "      <th>Month</th>\n",
       "      <th>Country</th>\n",
       "      <th>Direction</th>\n",
       "      <th>UNIT</th>\n",
       "      <th>VALUE</th>\n",
       "    </tr>\n",
       "  </thead>\n",
       "  <tbody>\n",
       "    <tr>\n",
       "      <th>0</th>\n",
       "      <td>Air and Sea Travel</td>\n",
       "      <td>2010</td>\n",
       "      <td>January</td>\n",
       "      <td>Great Britain</td>\n",
       "      <td>Arrivals</td>\n",
       "      <td>Thousand</td>\n",
       "      <td>361.5</td>\n",
       "    </tr>\n",
       "    <tr>\n",
       "      <th>1</th>\n",
       "      <td>Air and Sea Travel</td>\n",
       "      <td>2010</td>\n",
       "      <td>January</td>\n",
       "      <td>Great Britain</td>\n",
       "      <td>Departures</td>\n",
       "      <td>Thousand</td>\n",
       "      <td>407.6</td>\n",
       "    </tr>\n",
       "    <tr>\n",
       "      <th>2</th>\n",
       "      <td>Air and Sea Travel</td>\n",
       "      <td>2010</td>\n",
       "      <td>January</td>\n",
       "      <td>Other UK (1)</td>\n",
       "      <td>Arrivals</td>\n",
       "      <td>Thousand</td>\n",
       "      <td>0.9</td>\n",
       "    </tr>\n",
       "    <tr>\n",
       "      <th>3</th>\n",
       "      <td>Air and Sea Travel</td>\n",
       "      <td>2010</td>\n",
       "      <td>January</td>\n",
       "      <td>Other UK (1)</td>\n",
       "      <td>Departures</td>\n",
       "      <td>Thousand</td>\n",
       "      <td>1.1</td>\n",
       "    </tr>\n",
       "    <tr>\n",
       "      <th>4</th>\n",
       "      <td>Air and Sea Travel</td>\n",
       "      <td>2010</td>\n",
       "      <td>January</td>\n",
       "      <td>Belgium</td>\n",
       "      <td>Arrivals</td>\n",
       "      <td>Thousand</td>\n",
       "      <td>12.5</td>\n",
       "    </tr>\n",
       "  </tbody>\n",
       "</table>\n",
       "</div>"
      ],
      "text/plain": [
       "      STATISTIC Label  Year    Month        Country   Direction      UNIT  \\\n",
       "0  Air and Sea Travel  2010  January  Great Britain    Arrivals  Thousand   \n",
       "1  Air and Sea Travel  2010  January  Great Britain  Departures  Thousand   \n",
       "2  Air and Sea Travel  2010  January   Other UK (1)    Arrivals  Thousand   \n",
       "3  Air and Sea Travel  2010  January   Other UK (1)  Departures  Thousand   \n",
       "4  Air and Sea Travel  2010  January        Belgium    Arrivals  Thousand   \n",
       "\n",
       "   VALUE  \n",
       "0  361.5  \n",
       "1  407.6  \n",
       "2    0.9  \n",
       "3    1.1  \n",
       "4   12.5  "
      ]
     },
     "execution_count": 4,
     "metadata": {},
     "output_type": "execute_result"
    }
   ],
   "source": [
    "# is there an increase in certain countries? Let's experiment \n",
    "# which countries spent the most money, are they increasling spending money YoY\n",
    "# how much money can ireland expect in 2024/2025 : ML\n",
    "\n",
    "#Using .head() to get a sense for the data, its structure and content\n",
    "df.head()"
   ]
  },
  {
   "cell_type": "code",
   "execution_count": 5,
   "id": "09fa5bb4",
   "metadata": {},
   "outputs": [
    {
     "data": {
      "text/plain": [
       "(6084, 7)"
      ]
     },
     "execution_count": 5,
     "metadata": {},
     "output_type": "execute_result"
    }
   ],
   "source": [
    "df.shape"
   ]
  },
  {
   "cell_type": "code",
   "execution_count": 6,
   "id": "e73bfbb9",
   "metadata": {},
   "outputs": [
    {
     "name": "stdout",
     "output_type": "stream",
     "text": [
      "Percentage of 'thousand' in the 'UNIT' column: 100.0\n"
     ]
    }
   ],
   "source": [
    "# Count occurrences of \"thousand\" in the 'UNIT' feature. If 100% of data in this unit is thousand we will drop the column\n",
    "#Reason for this is it is ir\n",
    "thousand_count = (df['UNIT'] == 'Thousand').sum()\n",
    "\n",
    "# Calculating total number of observations\n",
    "total_rows = len(df)\n",
    "\n",
    "# Calculate percentage of times out of 100 that 'Thousand' was the unit of measurement \n",
    "percentage_thousand = (thousand_count / total_rows) * 100\n",
    "\n",
    "print(\"Percentage of 'thousand' in the 'UNIT' column:\", percentage_thousand)\n",
    "\n",
    "# for report - need reference \n",
    "#it's perfectly fine to drop a column if it contains the exact same value for all rows in the DataFrame, especially if that value doesn't provide any additional information beyond what's already known or can be communicated through metadata or other means.\n",
    "#In your case, if the 'UNIT' column contains the same value ('thousands') for all rows and this information is already conveyed to the reader or user of the data, there's no need to keep that column in the DataFrame. You can safely drop it to simplify the structure of your DataFrame and make it more efficient.\n",
    "#Dropping such redundant columns can improve the clarity and efficiency of your data analysis and visualization processes\n"
   ]
  },
  {
   "cell_type": "code",
   "execution_count": 7,
   "id": "b7ae82a1",
   "metadata": {},
   "outputs": [],
   "source": [
    "# Drop the 'UNIT' column\n",
    "df.drop(columns=['UNIT'], inplace=True)"
   ]
  },
  {
   "cell_type": "code",
   "execution_count": 8,
   "id": "460454ae",
   "metadata": {},
   "outputs": [],
   "source": [
    "# only keep the observations that are arrivals\n",
    "df_update = df[df['Direction'] == 'Arrivals']"
   ]
  },
  {
   "cell_type": "code",
   "execution_count": 9,
   "id": "e2113b4f",
   "metadata": {},
   "outputs": [
    {
     "data": {
      "text/html": [
       "<div>\n",
       "<style scoped>\n",
       "    .dataframe tbody tr th:only-of-type {\n",
       "        vertical-align: middle;\n",
       "    }\n",
       "\n",
       "    .dataframe tbody tr th {\n",
       "        vertical-align: top;\n",
       "    }\n",
       "\n",
       "    .dataframe thead th {\n",
       "        text-align: right;\n",
       "    }\n",
       "</style>\n",
       "<table border=\"1\" class=\"dataframe\">\n",
       "  <thead>\n",
       "    <tr style=\"text-align: right;\">\n",
       "      <th></th>\n",
       "      <th>STATISTIC Label</th>\n",
       "      <th>Year</th>\n",
       "      <th>Month</th>\n",
       "      <th>Country</th>\n",
       "      <th>Direction</th>\n",
       "      <th>VALUE</th>\n",
       "    </tr>\n",
       "  </thead>\n",
       "  <tbody>\n",
       "    <tr>\n",
       "      <th>0</th>\n",
       "      <td>Air and Sea Travel</td>\n",
       "      <td>2010</td>\n",
       "      <td>January</td>\n",
       "      <td>Great Britain</td>\n",
       "      <td>Arrivals</td>\n",
       "      <td>361.5</td>\n",
       "    </tr>\n",
       "    <tr>\n",
       "      <th>2</th>\n",
       "      <td>Air and Sea Travel</td>\n",
       "      <td>2010</td>\n",
       "      <td>January</td>\n",
       "      <td>Other UK (1)</td>\n",
       "      <td>Arrivals</td>\n",
       "      <td>0.9</td>\n",
       "    </tr>\n",
       "    <tr>\n",
       "      <th>4</th>\n",
       "      <td>Air and Sea Travel</td>\n",
       "      <td>2010</td>\n",
       "      <td>January</td>\n",
       "      <td>Belgium</td>\n",
       "      <td>Arrivals</td>\n",
       "      <td>12.5</td>\n",
       "    </tr>\n",
       "    <tr>\n",
       "      <th>6</th>\n",
       "      <td>Air and Sea Travel</td>\n",
       "      <td>2010</td>\n",
       "      <td>January</td>\n",
       "      <td>Germany</td>\n",
       "      <td>Arrivals</td>\n",
       "      <td>45.3</td>\n",
       "    </tr>\n",
       "    <tr>\n",
       "      <th>8</th>\n",
       "      <td>Air and Sea Travel</td>\n",
       "      <td>2010</td>\n",
       "      <td>January</td>\n",
       "      <td>Spain</td>\n",
       "      <td>Arrivals</td>\n",
       "      <td>68.6</td>\n",
       "    </tr>\n",
       "  </tbody>\n",
       "</table>\n",
       "</div>"
      ],
      "text/plain": [
       "      STATISTIC Label  Year    Month        Country Direction  VALUE\n",
       "0  Air and Sea Travel  2010  January  Great Britain  Arrivals  361.5\n",
       "2  Air and Sea Travel  2010  January   Other UK (1)  Arrivals    0.9\n",
       "4  Air and Sea Travel  2010  January        Belgium  Arrivals   12.5\n",
       "6  Air and Sea Travel  2010  January        Germany  Arrivals   45.3\n",
       "8  Air and Sea Travel  2010  January          Spain  Arrivals   68.6"
      ]
     },
     "execution_count": 9,
     "metadata": {},
     "output_type": "execute_result"
    }
   ],
   "source": [
    "# check to see the head \n",
    "df_update.head()"
   ]
  },
  {
   "cell_type": "code",
   "execution_count": 10,
   "id": "8a8e06fc",
   "metadata": {},
   "outputs": [],
   "source": [
    "#Here i am dropping any data before 2021, as I was to work with the timeframe 2021-2023\n",
    "#df_filtered = df_update[df_update['Year'] >= 2023]\n",
    "\n",
    "# Reset index \n",
    "#df_filtered.reset_index(drop=True, inplace=True)\n",
    "\n",
    "#my df is now called df_filtered"
   ]
  },
  {
   "cell_type": "code",
   "execution_count": 11,
   "id": "4cd39509",
   "metadata": {},
   "outputs": [],
   "source": [
    "#df_filtered.head()"
   ]
  },
  {
   "cell_type": "code",
   "execution_count": 12,
   "id": "76071a6b",
   "metadata": {},
   "outputs": [],
   "source": [
    "#df_filtered.shape"
   ]
  },
  {
   "cell_type": "code",
   "execution_count": 13,
   "id": "f6751438",
   "metadata": {},
   "outputs": [],
   "source": [
    "# This provides me with information such as the datatypes. \n",
    "#df_filtered.info()"
   ]
  },
  {
   "cell_type": "code",
   "execution_count": 14,
   "id": "22bc9620",
   "metadata": {},
   "outputs": [
    {
     "data": {
      "text/html": [
       "<div>\n",
       "<style scoped>\n",
       "    .dataframe tbody tr th:only-of-type {\n",
       "        vertical-align: middle;\n",
       "    }\n",
       "\n",
       "    .dataframe tbody tr th {\n",
       "        vertical-align: top;\n",
       "    }\n",
       "\n",
       "    .dataframe thead th {\n",
       "        text-align: right;\n",
       "    }\n",
       "</style>\n",
       "<table border=\"1\" class=\"dataframe\">\n",
       "  <thead>\n",
       "    <tr style=\"text-align: right;\">\n",
       "      <th></th>\n",
       "      <th>Year</th>\n",
       "      <th>VALUE</th>\n",
       "    </tr>\n",
       "  </thead>\n",
       "  <tbody>\n",
       "    <tr>\n",
       "      <th>count</th>\n",
       "      <td>6084.000000</td>\n",
       "      <td>6080.000000</td>\n",
       "    </tr>\n",
       "    <tr>\n",
       "      <th>mean</th>\n",
       "      <td>2016.544379</td>\n",
       "      <td>136.604638</td>\n",
       "    </tr>\n",
       "    <tr>\n",
       "      <th>std</th>\n",
       "      <td>4.060471</td>\n",
       "      <td>316.126348</td>\n",
       "    </tr>\n",
       "    <tr>\n",
       "      <th>min</th>\n",
       "      <td>2010.000000</td>\n",
       "      <td>0.000000</td>\n",
       "    </tr>\n",
       "    <tr>\n",
       "      <th>25%</th>\n",
       "      <td>2013.000000</td>\n",
       "      <td>12.800000</td>\n",
       "    </tr>\n",
       "    <tr>\n",
       "      <th>50%</th>\n",
       "      <td>2017.000000</td>\n",
       "      <td>36.100000</td>\n",
       "    </tr>\n",
       "    <tr>\n",
       "      <th>75%</th>\n",
       "      <td>2020.000000</td>\n",
       "      <td>85.400000</td>\n",
       "    </tr>\n",
       "    <tr>\n",
       "      <th>max</th>\n",
       "      <td>2024.000000</td>\n",
       "      <td>2270.700000</td>\n",
       "    </tr>\n",
       "  </tbody>\n",
       "</table>\n",
       "</div>"
      ],
      "text/plain": [
       "              Year        VALUE\n",
       "count  6084.000000  6080.000000\n",
       "mean   2016.544379   136.604638\n",
       "std       4.060471   316.126348\n",
       "min    2010.000000     0.000000\n",
       "25%    2013.000000    12.800000\n",
       "50%    2017.000000    36.100000\n",
       "75%    2020.000000    85.400000\n",
       "max    2024.000000  2270.700000"
      ]
     },
     "execution_count": 14,
     "metadata": {},
     "output_type": "execute_result"
    }
   ],
   "source": [
    "df.describe()\n",
    "# because only value and year is an integer type (float) I am only returned with two coulmn of data for my statistical analsis "
   ]
  },
  {
   "cell_type": "code",
   "execution_count": 15,
   "id": "0b43cbec",
   "metadata": {},
   "outputs": [
    {
     "data": {
      "text/plain": [
       "STATISTIC Label    0\n",
       "Year               0\n",
       "Month              0\n",
       "Country            0\n",
       "Direction          0\n",
       "VALUE              4\n",
       "dtype: int64"
      ]
     },
     "execution_count": 15,
     "metadata": {},
     "output_type": "execute_result"
    }
   ],
   "source": [
    "df.isnull().sum()"
   ]
  },
  {
   "cell_type": "code",
   "execution_count": 16,
   "id": "356b8b83",
   "metadata": {},
   "outputs": [],
   "source": [
    "# Checking against some malform data - get reference about malform data\n",
    "mal = [\"n.a\", \"?\", \"NA\", \"n/a\", \"na\", \"--\"]\n",
    "df_filtered = pd.read_csv(\"airandtravel1.csv\" , na_values=mal)"
   ]
  },
  {
   "cell_type": "code",
   "execution_count": 17,
   "id": "f75079a5",
   "metadata": {},
   "outputs": [
    {
     "data": {
      "text/plain": [
       "STATISTIC Label    0\n",
       "Year               0\n",
       "Month              0\n",
       "Country            0\n",
       "Direction          0\n",
       "VALUE              4\n",
       "dtype: int64"
      ]
     },
     "execution_count": 17,
     "metadata": {},
     "output_type": "execute_result"
    }
   ],
   "source": [
    "df.isnull().sum()"
   ]
  },
  {
   "cell_type": "code",
   "execution_count": 18,
   "id": "3463a5df",
   "metadata": {},
   "outputs": [],
   "source": [
    "mean_value = df['VALUE'].mean()\n",
    "\n",
    "# Fill NaN values with the mean of VALUE - give reference in report as to why this is important\n",
    "df['VALUE'].fillna(mean_value, inplace=True)"
   ]
  },
  {
   "cell_type": "code",
   "execution_count": 19,
   "id": "4c62df85",
   "metadata": {},
   "outputs": [
    {
     "data": {
      "text/plain": [
       "STATISTIC Label    0\n",
       "Year               0\n",
       "Month              0\n",
       "Country            0\n",
       "Direction          0\n",
       "VALUE              0\n",
       "dtype: int64"
      ]
     },
     "execution_count": 19,
     "metadata": {},
     "output_type": "execute_result"
    }
   ],
   "source": [
    "# Now my dataset is clean and there are no NaN, mal or missing values\n",
    "df.isnull().sum()"
   ]
  },
  {
   "cell_type": "markdown",
   "id": "67d2a444",
   "metadata": {},
   "source": [
    "## Where did Ireland's Tourists Come From? Statistical Anaylsis"
   ]
  },
  {
   "cell_type": "code",
   "execution_count": 20,
   "id": "92e6c141",
   "metadata": {},
   "outputs": [
    {
     "name": "stdout",
     "output_type": "stream",
     "text": [
      "                                              Country  Percentage of Visitors\n",
      "0                                       All countries               49.966874\n",
      "1                                             Belgium                0.680000\n",
      "2                                              France                3.302637\n",
      "3                                             Germany                2.797609\n",
      "4                                       Great Britain               20.433193\n",
      "5                                               Italy                1.963211\n",
      "6                                         Netherlands                1.682379\n",
      "7                                 Other Countries(42)                0.633496\n",
      "8                                   Other Europe (34)                0.417397\n",
      "9                    Other Transatlantic Countries(1)                0.464756\n",
      "10                                       Other UK (1)                0.153401\n",
      "11                                             Poland                1.529246\n",
      "12                                           Portugal                1.489780\n",
      "13  Selected EU (AT,BG,CY,CZ,DK,EE,FI,GR,HR,HU,LT,...                3.238168\n",
      "14                                              Spain                5.752599\n",
      "15                                        Switzerland                0.600142\n",
      "16                               United Arab Emirates                0.838224\n",
      "17                                      United States                4.056888\n"
     ]
    }
   ],
   "source": [
    "# Filter the DataFrame for the desired year (e.g., 2023)\n",
    "df_23 = df[df['Year'] == 2023]\n",
    "\n",
    "# Group by 'Country' and calculate the sum of 'Value' for each country\n",
    "country_visitors = df.groupby('Country')['VALUE'].sum()\n",
    "\n",
    "# Calculate the total number of visitors\n",
    "total_visitors = country_visitors.sum()\n",
    "\n",
    "# Calculate the percentage of visitors for each country\n",
    "country_percentages = (country_visitors / total_visitors) * 100\n",
    "\n",
    "# Create a new DataFrame to store the results\n",
    "result_df = pd.DataFrame({'Country': country_percentages.index, 'Percentage of Visitors': country_percentages.values})\n",
    "\n",
    "# Display the result\n",
    "print(result_df)\n"
   ]
  },
  {
   "cell_type": "code",
   "execution_count": 25,
   "id": "4779ad56",
   "metadata": {
    "scrolled": false
   },
   "outputs": [
    {
     "data": {
      "image/png": "[encoded data removed]",
      "text/plain": [
       "<Figure size 1000x800 with 1 Axes>"
      ]
     },
     "metadata": {},
     "output_type": "display_data"
    }
   ],
   "source": [
    "# removing all countries as skews data\n",
    "df_filtered = result_df[result_df['Country'] != 'All countries']\n",
    "\n",
    "\n",
    "# Plotting the horizontal bar plot\n",
    "plt.figure(figsize=(10, 8))\n",
    "plt.barh(df_filtered['Country'], df_filtered['Percentage of Visitors'], color='#61d610',)\n",
    "plt.xlabel('Percentage of Visitors')\n",
    "plt.ylabel('Country')\n",
    "plt.title('Percentage of Visitors by Country 2023')\n",
    "plt.tight_layout()\n",
    "plt.show()\n"
   ]
  },
  {
   "cell_type": "code",
   "execution_count": null,
   "id": "7949be0b",
   "metadata": {},
   "outputs": [],
   "source": []
  },
  {
   "cell_type": "markdown",
   "id": "ac32f8d7",
   "metadata": {},
   "source": [
    "## Where did Ireland's Tourists Come From? Visualisation"
   ]
  },
  {
   "cell_type": "code",
   "execution_count": 22,
   "id": "289d3821",
   "metadata": {},
   "outputs": [
    {
     "name": "stderr",
     "output_type": "stream",
     "text": [
      "C:\\Users\\coreyhughes\\AppData\\Local\\Temp\\ipykernel_11576\\1979559962.py:19: SettingWithCopyWarning: \n",
      "A value is trying to be set on a copy of a slice from a DataFrame.\n",
      "Try using .loc[row_indexer,col_indexer] = value instead\n",
      "\n",
      "See the caveats in the documentation: https://pandas.pydata.org/pandas-docs/stable/user_guide/indexing.html#returning-a-view-versus-a-copy\n",
      "  df_filtered['Latitude'], df_filtered['Longitude'] = zip(*df_filtered['Country'].apply(get_lat_long))\n",
      "C:\\Users\\coreyhughes\\AppData\\Local\\Temp\\ipykernel_11576\\1979559962.py:19: SettingWithCopyWarning: \n",
      "A value is trying to be set on a copy of a slice from a DataFrame.\n",
      "Try using .loc[row_indexer,col_indexer] = value instead\n",
      "\n",
      "See the caveats in the documentation: https://pandas.pydata.org/pandas-docs/stable/user_guide/indexing.html#returning-a-view-versus-a-copy\n",
      "  df_filtered['Latitude'], df_filtered['Longitude'] = zip(*df_filtered['Country'].apply(get_lat_long))\n"
     ]
    }
   ],
   "source": [
    "from geopy.geocoders import Nominatim\n",
    "import time  # Import time module for adding delays\n",
    "\n",
    "# Assuming filtered_df is your DataFrame\n",
    "# Initialize the geocoder with a unique user agent\n",
    "geolocator = Nominatim(user_agent=\"my_geocoder\")\n",
    "\n",
    "# Function to get latitude and longitude for a country\n",
    "def get_lat_long(country):\n",
    "    # Add a delay to respect rate limits\n",
    "    time.sleep(1)  # Sleep for 1 second between requests\n",
    "    location = geolocator.geocode(country)\n",
    "    if location:\n",
    "        return location.latitude, location.longitude\n",
    "    else:\n",
    "        return None, None\n",
    "\n",
    "# Add latitude and longitude columns to the DataFrame\n",
    "df_filtered['Latitude'], df_filtered['Longitude'] = zip(*df_filtered['Country'].apply(get_lat_long))\n"
   ]
  },
  {
   "cell_type": "code",
   "execution_count": 23,
   "id": "2c37d18c",
   "metadata": {},
   "outputs": [
    {
     "data": {
      "text/html": [
       "<div>\n",
       "<style scoped>\n",
       "    .dataframe tbody tr th:only-of-type {\n",
       "        vertical-align: middle;\n",
       "    }\n",
       "\n",
       "    .dataframe tbody tr th {\n",
       "        vertical-align: top;\n",
       "    }\n",
       "\n",
       "    .dataframe thead th {\n",
       "        text-align: right;\n",
       "    }\n",
       "</style>\n",
       "<table border=\"1\" class=\"dataframe\">\n",
       "  <thead>\n",
       "    <tr style=\"text-align: right;\">\n",
       "      <th></th>\n",
       "      <th>Country</th>\n",
       "      <th>Percentage of Visitors</th>\n",
       "      <th>Latitude</th>\n",
       "      <th>Longitude</th>\n",
       "    </tr>\n",
       "  </thead>\n",
       "  <tbody>\n",
       "    <tr>\n",
       "      <th>1</th>\n",
       "      <td>Belgium</td>\n",
       "      <td>0.680000</td>\n",
       "      <td>50.640281</td>\n",
       "      <td>4.666715</td>\n",
       "    </tr>\n",
       "    <tr>\n",
       "      <th>2</th>\n",
       "      <td>France</td>\n",
       "      <td>3.302637</td>\n",
       "      <td>46.603354</td>\n",
       "      <td>1.888334</td>\n",
       "    </tr>\n",
       "    <tr>\n",
       "      <th>3</th>\n",
       "      <td>Germany</td>\n",
       "      <td>2.797609</td>\n",
       "      <td>51.163818</td>\n",
       "      <td>10.447831</td>\n",
       "    </tr>\n",
       "    <tr>\n",
       "      <th>4</th>\n",
       "      <td>Great Britain</td>\n",
       "      <td>20.433193</td>\n",
       "      <td>54.315159</td>\n",
       "      <td>-1.918153</td>\n",
       "    </tr>\n",
       "    <tr>\n",
       "      <th>5</th>\n",
       "      <td>Italy</td>\n",
       "      <td>1.963211</td>\n",
       "      <td>42.638426</td>\n",
       "      <td>12.674297</td>\n",
       "    </tr>\n",
       "  </tbody>\n",
       "</table>\n",
       "</div>"
      ],
      "text/plain": [
       "         Country  Percentage of Visitors   Latitude  Longitude\n",
       "1        Belgium                0.680000  50.640281   4.666715\n",
       "2         France                3.302637  46.603354   1.888334\n",
       "3        Germany                2.797609  51.163818  10.447831\n",
       "4  Great Britain               20.433193  54.315159  -1.918153\n",
       "5          Italy                1.963211  42.638426  12.674297"
      ]
     },
     "execution_count": 23,
     "metadata": {},
     "output_type": "execute_result"
    }
   ],
   "source": [
    "df_filtered.head()"
   ]
  },
  {
   "cell_type": "code",
   "execution_count": 24,
   "id": "747b461a",
   "metadata": {},
   "outputs": [
    {
     "ename": "ValueError",
     "evalue": "Location values cannot contain NaNs.",
     "output_type": "error",
     "traceback": [
      "\u001b[1;31m---------------------------------------------------------------------------\u001b[0m",
      "\u001b[1;31mValueError\u001b[0m                                Traceback (most recent call last)",
      "Cell \u001b[1;32mIn[24], line 11\u001b[0m\n\u001b[0;32m      9\u001b[0m \u001b[38;5;66;03m# Add a heatmap layer using the latitude and longitude data\u001b[39;00m\n\u001b[0;32m     10\u001b[0m heat_data \u001b[38;5;241m=\u001b[39m [[row[\u001b[38;5;124m'\u001b[39m\u001b[38;5;124mLatitude\u001b[39m\u001b[38;5;124m'\u001b[39m], row[\u001b[38;5;124m'\u001b[39m\u001b[38;5;124mLongitude\u001b[39m\u001b[38;5;124m'\u001b[39m]] \u001b[38;5;28;01mfor\u001b[39;00m index, row \u001b[38;5;129;01min\u001b[39;00m df_filtered\u001b[38;5;241m.\u001b[39miterrows()]\n\u001b[1;32m---> 11\u001b[0m HeatMap(heat_data)\u001b[38;5;241m.\u001b[39madd_to(m)\n\u001b[0;32m     13\u001b[0m \u001b[38;5;66;03m# Save the map to an HTML file\u001b[39;00m\n\u001b[0;32m     14\u001b[0m m\u001b[38;5;241m.\u001b[39msave(\u001b[38;5;124m'\u001b[39m\u001b[38;5;124mheatmap.html\u001b[39m\u001b[38;5;124m'\u001b[39m)\n",
      "File \u001b[1;32m~\\AppData\\Local\\anaconda3\\Lib\\site-packages\\folium\\plugins\\heat_map.py:82\u001b[0m, in \u001b[0;36mHeatMap.__init__\u001b[1;34m(self, data, name, min_opacity, max_zoom, radius, blur, gradient, overlay, control, show, **kwargs)\u001b[0m\n\u001b[0;32m     80\u001b[0m \u001b[38;5;28mself\u001b[39m\u001b[38;5;241m.\u001b[39m_name \u001b[38;5;241m=\u001b[39m \u001b[38;5;124m\"\u001b[39m\u001b[38;5;124mHeatMap\u001b[39m\u001b[38;5;124m\"\u001b[39m\n\u001b[0;32m     81\u001b[0m data \u001b[38;5;241m=\u001b[39m if_pandas_df_convert_to_numpy(data)\n\u001b[1;32m---> 82\u001b[0m \u001b[38;5;28mself\u001b[39m\u001b[38;5;241m.\u001b[39mdata \u001b[38;5;241m=\u001b[39m [\n\u001b[0;32m     83\u001b[0m     [\u001b[38;5;241m*\u001b[39mvalidate_location(line[:\u001b[38;5;241m2\u001b[39m]), \u001b[38;5;241m*\u001b[39mline[\u001b[38;5;241m2\u001b[39m:]] \u001b[38;5;28;01mfor\u001b[39;00m line \u001b[38;5;129;01min\u001b[39;00m data  \u001b[38;5;66;03m# noqa: E999\u001b[39;00m\n\u001b[0;32m     84\u001b[0m ]\n\u001b[0;32m     85\u001b[0m \u001b[38;5;28;01mif\u001b[39;00m np\u001b[38;5;241m.\u001b[39many(np\u001b[38;5;241m.\u001b[39misnan(\u001b[38;5;28mself\u001b[39m\u001b[38;5;241m.\u001b[39mdata)):\n\u001b[0;32m     86\u001b[0m     \u001b[38;5;28;01mraise\u001b[39;00m \u001b[38;5;167;01mValueError\u001b[39;00m(\u001b[38;5;124m\"\u001b[39m\u001b[38;5;124mdata may not contain NaNs.\u001b[39m\u001b[38;5;124m\"\u001b[39m)\n",
      "File \u001b[1;32m~\\AppData\\Local\\anaconda3\\Lib\\site-packages\\folium\\plugins\\heat_map.py:83\u001b[0m, in \u001b[0;36m<listcomp>\u001b[1;34m(.0)\u001b[0m\n\u001b[0;32m     80\u001b[0m \u001b[38;5;28mself\u001b[39m\u001b[38;5;241m.\u001b[39m_name \u001b[38;5;241m=\u001b[39m \u001b[38;5;124m\"\u001b[39m\u001b[38;5;124mHeatMap\u001b[39m\u001b[38;5;124m\"\u001b[39m\n\u001b[0;32m     81\u001b[0m data \u001b[38;5;241m=\u001b[39m if_pandas_df_convert_to_numpy(data)\n\u001b[0;32m     82\u001b[0m \u001b[38;5;28mself\u001b[39m\u001b[38;5;241m.\u001b[39mdata \u001b[38;5;241m=\u001b[39m [\n\u001b[1;32m---> 83\u001b[0m     [\u001b[38;5;241m*\u001b[39mvalidate_location(line[:\u001b[38;5;241m2\u001b[39m]), \u001b[38;5;241m*\u001b[39mline[\u001b[38;5;241m2\u001b[39m:]] \u001b[38;5;28;01mfor\u001b[39;00m line \u001b[38;5;129;01min\u001b[39;00m data  \u001b[38;5;66;03m# noqa: E999\u001b[39;00m\n\u001b[0;32m     84\u001b[0m ]\n\u001b[0;32m     85\u001b[0m \u001b[38;5;28;01mif\u001b[39;00m np\u001b[38;5;241m.\u001b[39many(np\u001b[38;5;241m.\u001b[39misnan(\u001b[38;5;28mself\u001b[39m\u001b[38;5;241m.\u001b[39mdata)):\n\u001b[0;32m     86\u001b[0m     \u001b[38;5;28;01mraise\u001b[39;00m \u001b[38;5;167;01mValueError\u001b[39;00m(\u001b[38;5;124m\"\u001b[39m\u001b[38;5;124mdata may not contain NaNs.\u001b[39m\u001b[38;5;124m\"\u001b[39m)\n",
      "File \u001b[1;32m~\\AppData\\Local\\anaconda3\\Lib\\site-packages\\folium\\utilities.py:101\u001b[0m, in \u001b[0;36mvalidate_location\u001b[1;34m(location)\u001b[0m\n\u001b[0;32m     96\u001b[0m         \u001b[38;5;28;01mraise\u001b[39;00m \u001b[38;5;167;01mValueError\u001b[39;00m(\n\u001b[0;32m     97\u001b[0m             \u001b[38;5;124m\"\u001b[39m\u001b[38;5;124mLocation should consist of two numerical values, \u001b[39m\u001b[38;5;124m\"\u001b[39m\n\u001b[0;32m     98\u001b[0m             \u001b[38;5;124mf\u001b[39m\u001b[38;5;124m\"\u001b[39m\u001b[38;5;124mbut \u001b[39m\u001b[38;5;132;01m{\u001b[39;00mcoord\u001b[38;5;132;01m!r}\u001b[39;00m\u001b[38;5;124m of type \u001b[39m\u001b[38;5;132;01m{\u001b[39;00m\u001b[38;5;28mtype\u001b[39m(coord)\u001b[38;5;132;01m}\u001b[39;00m\u001b[38;5;124m is not convertible to float.\u001b[39m\u001b[38;5;124m\"\u001b[39m\n\u001b[0;32m     99\u001b[0m         )\n\u001b[0;32m    100\u001b[0m     \u001b[38;5;28;01mif\u001b[39;00m math\u001b[38;5;241m.\u001b[39misnan(\u001b[38;5;28mfloat\u001b[39m(coord)):\n\u001b[1;32m--> 101\u001b[0m         \u001b[38;5;28;01mraise\u001b[39;00m \u001b[38;5;167;01mValueError\u001b[39;00m(\u001b[38;5;124m\"\u001b[39m\u001b[38;5;124mLocation values cannot contain NaNs.\u001b[39m\u001b[38;5;124m\"\u001b[39m)\n\u001b[0;32m    102\u001b[0m \u001b[38;5;28;01mreturn\u001b[39;00m [\u001b[38;5;28mfloat\u001b[39m(x) \u001b[38;5;28;01mfor\u001b[39;00m x \u001b[38;5;129;01min\u001b[39;00m coords]\n",
      "\u001b[1;31mValueError\u001b[0m: Location values cannot contain NaNs."
     ]
    }
   ],
   "source": [
    "import folium\n",
    "from folium.plugins import HeatMap\n",
    "\n",
    "\n",
    "# Create a folium map centered on the mean latitude and longitude\n",
    "#m = folium.Map(location=[nasa_df['latitude'].mean(), nasa_df['longitude'].mean()], zoom_start=5)\n",
    "m = folium.Map(location=[0, 0], zoom_start=4)\n",
    "\n",
    "# Add a heatmap layer using the latitude and longitude data\n",
    "heat_data = [[row['Latitude'], row['Longitude']] for index, row in df_filtered.iterrows()]\n",
    "HeatMap(heat_data).add_to(m)\n",
    "\n",
    "# Save the map to an HTML file\n",
    "m.save('heatmap.html')\n",
    "\n",
    "m\n",
    "\n",
    "#Blue areas signify regions with fewer meteorite landings.\n",
    "#Red areas signify regions with more meteorite landings.\n"
   ]
  },
  {
   "cell_type": "code",
   "execution_count": null,
   "id": "c84cfc52",
   "metadata": {},
   "outputs": [],
   "source": [
    "# other questions: where are they staying , counties, accomodations \n"
   ]
  },
  {
   "cell_type": "code",
   "execution_count": null,
   "id": "f66e4733",
   "metadata": {},
   "outputs": [],
   "source": []
  }
 ],
 "metadata": {
  "kernelspec": {
   "display_name": "Python 3 (ipykernel)",
   "language": "python",
   "name": "python3"
  },
  "language_info": {
   "codemirror_mode": {
    "name": "ipython",
    "version": 3
   },
   "file_extension": ".py",
   "mimetype": "text/x-python",
   "name": "python",
   "nbconvert_exporter": "python",
   "pygments_lexer": "ipython3",
   "version": "3.11.5"
  }
 },
 "nbformat": 4,
 "nbformat_minor": 5
}
