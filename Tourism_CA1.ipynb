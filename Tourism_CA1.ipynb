{
 "cells": [
  {
   "cell_type": "code",
   "execution_count": 1,
   "id": "7cc717fb",
   "metadata": {},
   "outputs": [],
   "source": [
    "#importing all of the libraries that will be needed\n",
    "import pandas as pd \n",
    "import numpy as np\n",
    "import seaborn as sns #visualisation\n",
    "import matplotlib.pyplot as plt #visualisation\n",
    "%matplotlib inline \n",
    "sns.set(color_codes=True)\n",
    "import statistics as stats\n",
    "from IPython.display import display, HTML"
   ]
  },
  {
   "cell_type": "code",
   "execution_count": 2,
   "id": "aef81f1e",
   "metadata": {},
   "outputs": [
    {
     "data": {
      "text/html": [
       "<img src=\"11.jpg\" style=\"width: 310px; margin: 0px; float: left;\" /><img src=\"12.jpg\" style=\"width: 310px; margin: 0px; float: left;\" /><img src=\"13.jpg\" style=\"width: 310px; margin: 0px; float: left;\" />"
      ],
      "text/plain": [
       "<IPython.core.display.HTML object>"
      ]
     },
     "metadata": {},
     "output_type": "display_data"
    }
   ],
   "source": [
    "# Inserting some images that is related to the assignment topic\n",
    "\n",
    "# Paths to my image files\n",
    "image_paths = ['11.jpg', '12.jpg', '13.jpg']\n",
    "\n",
    "# Generate HTML code to display images side by side\n",
    "images_html = ''.join([f'<img src=\"{path}\" style=\"width: 310px; margin: 0px; float: left;\" />' for path in image_paths])\n",
    "\n",
    "# Display HTML code\n",
    "display(HTML(images_html))"
   ]
  },
  {
   "cell_type": "code",
   "execution_count": 16,
   "id": "62e1c250",
   "metadata": {},
   "outputs": [],
   "source": [
    "#Read files from the URL into the pandas DataFrame\n",
    "url = \"airandtravel1.csv\"\n",
    "travel_df = pd.read_csv(url) "
   ]
  },
  {
   "cell_type": "markdown",
   "id": "cef4e27e",
   "metadata": {},
   "source": [
    "## Air and Sea Travel \n",
    "Where did Ireland's Tourists Come From? This section will aim to identify the statistical data from countries that visited Ireland from 2016-2019. We will use data preperation methods such a `.head()` , `.shape`, `describe`, `info.()` etc to clean and sort the data first "
   ]
  },
  {
   "cell_type": "code",
   "execution_count": 17,
   "id": "2a2bf3f0",
   "metadata": {},
   "outputs": [
    {
     "data": {
      "text/html": [
       "<div>\n",
       "<style scoped>\n",
       "    .dataframe tbody tr th:only-of-type {\n",
       "        vertical-align: middle;\n",
       "    }\n",
       "\n",
       "    .dataframe tbody tr th {\n",
       "        vertical-align: top;\n",
       "    }\n",
       "\n",
       "    .dataframe thead th {\n",
       "        text-align: right;\n",
       "    }\n",
       "</style>\n",
       "<table border=\"1\" class=\"dataframe\">\n",
       "  <thead>\n",
       "    <tr style=\"text-align: right;\">\n",
       "      <th></th>\n",
       "      <th>STATISTIC Label</th>\n",
       "      <th>Year</th>\n",
       "      <th>Month</th>\n",
       "      <th>Country</th>\n",
       "      <th>Direction</th>\n",
       "      <th>UNIT</th>\n",
       "      <th>VALUE</th>\n",
       "    </tr>\n",
       "  </thead>\n",
       "  <tbody>\n",
       "    <tr>\n",
       "      <th>0</th>\n",
       "      <td>Air and Sea Travel</td>\n",
       "      <td>2010</td>\n",
       "      <td>January</td>\n",
       "      <td>Great Britain</td>\n",
       "      <td>Arrivals</td>\n",
       "      <td>Thousand</td>\n",
       "      <td>361.5</td>\n",
       "    </tr>\n",
       "    <tr>\n",
       "      <th>1</th>\n",
       "      <td>Air and Sea Travel</td>\n",
       "      <td>2010</td>\n",
       "      <td>January</td>\n",
       "      <td>Great Britain</td>\n",
       "      <td>Departures</td>\n",
       "      <td>Thousand</td>\n",
       "      <td>407.6</td>\n",
       "    </tr>\n",
       "    <tr>\n",
       "      <th>2</th>\n",
       "      <td>Air and Sea Travel</td>\n",
       "      <td>2010</td>\n",
       "      <td>January</td>\n",
       "      <td>Other UK (1)</td>\n",
       "      <td>Arrivals</td>\n",
       "      <td>Thousand</td>\n",
       "      <td>0.9</td>\n",
       "    </tr>\n",
       "    <tr>\n",
       "      <th>3</th>\n",
       "      <td>Air and Sea Travel</td>\n",
       "      <td>2010</td>\n",
       "      <td>January</td>\n",
       "      <td>Other UK (1)</td>\n",
       "      <td>Departures</td>\n",
       "      <td>Thousand</td>\n",
       "      <td>1.1</td>\n",
       "    </tr>\n",
       "    <tr>\n",
       "      <th>4</th>\n",
       "      <td>Air and Sea Travel</td>\n",
       "      <td>2010</td>\n",
       "      <td>January</td>\n",
       "      <td>Belgium</td>\n",
       "      <td>Arrivals</td>\n",
       "      <td>Thousand</td>\n",
       "      <td>12.5</td>\n",
       "    </tr>\n",
       "  </tbody>\n",
       "</table>\n",
       "</div>"
      ],
      "text/plain": [
       "      STATISTIC Label  Year    Month        Country   Direction      UNIT  \\\n",
       "0  Air and Sea Travel  2010  January  Great Britain    Arrivals  Thousand   \n",
       "1  Air and Sea Travel  2010  January  Great Britain  Departures  Thousand   \n",
       "2  Air and Sea Travel  2010  January   Other UK (1)    Arrivals  Thousand   \n",
       "3  Air and Sea Travel  2010  January   Other UK (1)  Departures  Thousand   \n",
       "4  Air and Sea Travel  2010  January        Belgium    Arrivals  Thousand   \n",
       "\n",
       "   VALUE  \n",
       "0  361.5  \n",
       "1  407.6  \n",
       "2    0.9  \n",
       "3    1.1  \n",
       "4   12.5  "
      ]
     },
     "execution_count": 17,
     "metadata": {},
     "output_type": "execute_result"
    }
   ],
   "source": [
    "#Using .head() to get a sense for the data, its structure and content\n",
    "travel_df.head()"
   ]
  },
  {
   "cell_type": "code",
   "execution_count": 18,
   "id": "a40fe50f",
   "metadata": {},
   "outputs": [
    {
     "data": {
      "text/plain": [
       "(6084, 7)"
      ]
     },
     "execution_count": 18,
     "metadata": {},
     "output_type": "execute_result"
    }
   ],
   "source": [
    "travel_df.shape"
   ]
  },
  {
   "cell_type": "code",
   "execution_count": 19,
   "id": "ea2819c6",
   "metadata": {},
   "outputs": [
    {
     "name": "stdout",
     "output_type": "stream",
     "text": [
      "<class 'pandas.core.frame.DataFrame'>\n",
      "RangeIndex: 6084 entries, 0 to 6083\n",
      "Data columns (total 7 columns):\n",
      " #   Column           Non-Null Count  Dtype  \n",
      "---  ------           --------------  -----  \n",
      " 0   STATISTIC Label  6084 non-null   object \n",
      " 1   Year             6084 non-null   int64  \n",
      " 2   Month            6084 non-null   object \n",
      " 3   Country          6084 non-null   object \n",
      " 4   Direction        6084 non-null   object \n",
      " 5   UNIT             6084 non-null   object \n",
      " 6   VALUE            6080 non-null   float64\n",
      "dtypes: float64(1), int64(1), object(5)\n",
      "memory usage: 332.8+ KB\n"
     ]
    }
   ],
   "source": [
    "# This provides me with information such as the datatypes. \n",
    "travel_df.info()"
   ]
  },
  {
   "cell_type": "code",
   "execution_count": 20,
   "id": "5a80718e",
   "metadata": {},
   "outputs": [
    {
     "data": {
      "text/html": [
       "<div>\n",
       "<style scoped>\n",
       "    .dataframe tbody tr th:only-of-type {\n",
       "        vertical-align: middle;\n",
       "    }\n",
       "\n",
       "    .dataframe tbody tr th {\n",
       "        vertical-align: top;\n",
       "    }\n",
       "\n",
       "    .dataframe thead th {\n",
       "        text-align: right;\n",
       "    }\n",
       "</style>\n",
       "<table border=\"1\" class=\"dataframe\">\n",
       "  <thead>\n",
       "    <tr style=\"text-align: right;\">\n",
       "      <th></th>\n",
       "      <th>Year</th>\n",
       "      <th>VALUE</th>\n",
       "    </tr>\n",
       "  </thead>\n",
       "  <tbody>\n",
       "    <tr>\n",
       "      <th>count</th>\n",
       "      <td>6084.000000</td>\n",
       "      <td>6080.000000</td>\n",
       "    </tr>\n",
       "    <tr>\n",
       "      <th>mean</th>\n",
       "      <td>2016.544379</td>\n",
       "      <td>136.604638</td>\n",
       "    </tr>\n",
       "    <tr>\n",
       "      <th>std</th>\n",
       "      <td>4.060471</td>\n",
       "      <td>316.126348</td>\n",
       "    </tr>\n",
       "    <tr>\n",
       "      <th>min</th>\n",
       "      <td>2010.000000</td>\n",
       "      <td>0.000000</td>\n",
       "    </tr>\n",
       "    <tr>\n",
       "      <th>25%</th>\n",
       "      <td>2013.000000</td>\n",
       "      <td>12.800000</td>\n",
       "    </tr>\n",
       "    <tr>\n",
       "      <th>50%</th>\n",
       "      <td>2017.000000</td>\n",
       "      <td>36.100000</td>\n",
       "    </tr>\n",
       "    <tr>\n",
       "      <th>75%</th>\n",
       "      <td>2020.000000</td>\n",
       "      <td>85.400000</td>\n",
       "    </tr>\n",
       "    <tr>\n",
       "      <th>max</th>\n",
       "      <td>2024.000000</td>\n",
       "      <td>2270.700000</td>\n",
       "    </tr>\n",
       "  </tbody>\n",
       "</table>\n",
       "</div>"
      ],
      "text/plain": [
       "              Year        VALUE\n",
       "count  6084.000000  6080.000000\n",
       "mean   2016.544379   136.604638\n",
       "std       4.060471   316.126348\n",
       "min    2010.000000     0.000000\n",
       "25%    2013.000000    12.800000\n",
       "50%    2017.000000    36.100000\n",
       "75%    2020.000000    85.400000\n",
       "max    2024.000000  2270.700000"
      ]
     },
     "execution_count": 20,
     "metadata": {},
     "output_type": "execute_result"
    }
   ],
   "source": [
    "travel_df.describe()\n",
    "# because only value and year is an integer type (float) I am only returned with two coulmn of data for my statistical analsis "
   ]
  },
  {
   "cell_type": "code",
   "execution_count": null,
   "id": "6ec2ddee",
   "metadata": {},
   "outputs": [],
   "source": []
  },
  {
   "cell_type": "code",
   "execution_count": null,
   "id": "12fcd5f0",
   "metadata": {},
   "outputs": [],
   "source": []
  }
 ],
 "metadata": {
  "kernelspec": {
   "display_name": "Python 3 (ipykernel)",
   "language": "python",
   "name": "python3"
  },
  "language_info": {
   "codemirror_mode": {
    "name": "ipython",
    "version": 3
   },
   "file_extension": ".py",
   "mimetype": "text/x-python",
   "name": "python",
   "nbconvert_exporter": "python",
   "pygments_lexer": "ipython3",
   "version": "3.11.5"
  }
 },
 "nbformat": 4,
 "nbformat_minor": 5
}
