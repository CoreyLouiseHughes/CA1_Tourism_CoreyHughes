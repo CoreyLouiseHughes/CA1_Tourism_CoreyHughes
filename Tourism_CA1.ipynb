{
 "cells": [
  {
   "cell_type": "code",
   "execution_count": 1,
   "id": "480fe4f0",
   "metadata": {},
   "outputs": [],
   "source": [
    "#importing all of the libraries that will be needed\n",
    "import pandas as pd \n",
    "import numpy as np\n",
    "import seaborn as sns #visualisation\n",
    "import matplotlib.pyplot as plt #visualisation\n",
    "%matplotlib inline \n",
    "sns.set(color_codes=True)\n",
    "import statistics as stats\n",
    "from IPython.display import display, HTML"
   ]
  },
  {
   "cell_type": "code",
   "execution_count": 2,
   "id": "710308fe",
   "metadata": {},
   "outputs": [
    {
     "data": {
      "text/html": [
       "<img src=\"11.jpg\" style=\"width: 310px; margin: 0px; float: left;\" /><img src=\"12.jpg\" style=\"width: 310px; margin: 0px; float: left;\" /><img src=\"13.jpg\" style=\"width: 310px; margin: 0px; float: left;\" />"
      ],
      "text/plain": [
       "<IPython.core.display.HTML object>"
      ]
     },
     "metadata": {},
     "output_type": "display_data"
    }
   ],
   "source": [
    "# Inserting some images that is related to the assignment topic\n",
    "\n",
    "# Paths to my image files\n",
    "image_paths = ['11.jpg', '12.jpg', '13.jpg']\n",
    "\n",
    "# Generate HTML code to display images side by side\n",
    "images_html = ''.join([f'<img src=\"{path}\" style=\"width: 310px; margin: 0px; float: left;\" />' for path in image_paths])\n",
    "\n",
    "# Display HTML code\n",
    "display(HTML(images_html))"
   ]
  },
  {
   "cell_type": "code",
   "execution_count": 3,
   "id": "17c156a2",
   "metadata": {},
   "outputs": [],
   "source": [
    "#Read files from the URL into the pandas DataFrame\n",
    "# make sure to reference where you got the dataswt (CSO - Tourism)\n",
    "url = \"airandtravel1.csv\"\n",
    "travel_df = pd.read_csv(url) "
   ]
  },
  {
   "cell_type": "markdown",
   "id": "4a7a7239",
   "metadata": {},
   "source": [
    "## Where did Ireland's Tourists Come From? Cleaning and Preperation\n",
    "This section will aim use data preperation methods such a `.head()` , `.shape`, `describe`, `info.()` etc to clean and sort the data first"
   ]
  },
  {
   "cell_type": "code",
   "execution_count": 4,
   "id": "dc858369",
   "metadata": {},
   "outputs": [
    {
     "data": {
      "text/html": [
       "<div>\n",
       "<style scoped>\n",
       "    .dataframe tbody tr th:only-of-type {\n",
       "        vertical-align: middle;\n",
       "    }\n",
       "\n",
       "    .dataframe tbody tr th {\n",
       "        vertical-align: top;\n",
       "    }\n",
       "\n",
       "    .dataframe thead th {\n",
       "        text-align: right;\n",
       "    }\n",
       "</style>\n",
       "<table border=\"1\" class=\"dataframe\">\n",
       "  <thead>\n",
       "    <tr style=\"text-align: right;\">\n",
       "      <th></th>\n",
       "      <th>STATISTIC Label</th>\n",
       "      <th>Year</th>\n",
       "      <th>Month</th>\n",
       "      <th>Country</th>\n",
       "      <th>Direction</th>\n",
       "      <th>UNIT</th>\n",
       "      <th>VALUE</th>\n",
       "    </tr>\n",
       "  </thead>\n",
       "  <tbody>\n",
       "    <tr>\n",
       "      <th>0</th>\n",
       "      <td>Air and Sea Travel</td>\n",
       "      <td>2010</td>\n",
       "      <td>January</td>\n",
       "      <td>Great Britain</td>\n",
       "      <td>Arrivals</td>\n",
       "      <td>Thousand</td>\n",
       "      <td>361.5</td>\n",
       "    </tr>\n",
       "    <tr>\n",
       "      <th>1</th>\n",
       "      <td>Air and Sea Travel</td>\n",
       "      <td>2010</td>\n",
       "      <td>January</td>\n",
       "      <td>Great Britain</td>\n",
       "      <td>Departures</td>\n",
       "      <td>Thousand</td>\n",
       "      <td>407.6</td>\n",
       "    </tr>\n",
       "    <tr>\n",
       "      <th>2</th>\n",
       "      <td>Air and Sea Travel</td>\n",
       "      <td>2010</td>\n",
       "      <td>January</td>\n",
       "      <td>Other UK (1)</td>\n",
       "      <td>Arrivals</td>\n",
       "      <td>Thousand</td>\n",
       "      <td>0.9</td>\n",
       "    </tr>\n",
       "    <tr>\n",
       "      <th>3</th>\n",
       "      <td>Air and Sea Travel</td>\n",
       "      <td>2010</td>\n",
       "      <td>January</td>\n",
       "      <td>Other UK (1)</td>\n",
       "      <td>Departures</td>\n",
       "      <td>Thousand</td>\n",
       "      <td>1.1</td>\n",
       "    </tr>\n",
       "    <tr>\n",
       "      <th>4</th>\n",
       "      <td>Air and Sea Travel</td>\n",
       "      <td>2010</td>\n",
       "      <td>January</td>\n",
       "      <td>Belgium</td>\n",
       "      <td>Arrivals</td>\n",
       "      <td>Thousand</td>\n",
       "      <td>12.5</td>\n",
       "    </tr>\n",
       "  </tbody>\n",
       "</table>\n",
       "</div>"
      ],
      "text/plain": [
       "      STATISTIC Label  Year    Month        Country   Direction      UNIT  \\\n",
       "0  Air and Sea Travel  2010  January  Great Britain    Arrivals  Thousand   \n",
       "1  Air and Sea Travel  2010  January  Great Britain  Departures  Thousand   \n",
       "2  Air and Sea Travel  2010  January   Other UK (1)    Arrivals  Thousand   \n",
       "3  Air and Sea Travel  2010  January   Other UK (1)  Departures  Thousand   \n",
       "4  Air and Sea Travel  2010  January        Belgium    Arrivals  Thousand   \n",
       "\n",
       "   VALUE  \n",
       "0  361.5  \n",
       "1  407.6  \n",
       "2    0.9  \n",
       "3    1.1  \n",
       "4   12.5  "
      ]
     },
     "execution_count": 4,
     "metadata": {},
     "output_type": "execute_result"
    }
   ],
   "source": [
    "# is there an increase in certain countries? Let's experiment \n",
    "# which countries spent the most money, are they increasling spending money YoY\n",
    "# how much money can ireland expect in 2024/2025 : ML\n",
    "\n",
    "#Using .head() to get a sense for the data, its structure and content\n",
    "travel_df.head()"
   ]
  },
  {
   "cell_type": "code",
   "execution_count": 5,
   "id": "48a806a1",
   "metadata": {},
   "outputs": [
    {
     "data": {
      "text/plain": [
       "(6084, 7)"
      ]
     },
     "execution_count": 5,
     "metadata": {},
     "output_type": "execute_result"
    }
   ],
   "source": [
    "travel_df.shape"
   ]
  },
  {
   "cell_type": "code",
   "execution_count": 6,
   "id": "e10ee606",
   "metadata": {},
   "outputs": [],
   "source": [
    "#Here i am dropping any data before 2021, as I was to work with the timeframe 2021-2023\n",
    "filtered_df = travel_df[travel_df['Year'] >= 2021]\n",
    "\n",
    "# Reset index \n",
    "filtered_df.reset_index(drop=True, inplace=True)\n",
    "\n",
    "#my df is now called filtered_df"
   ]
  },
  {
   "cell_type": "code",
   "execution_count": 7,
   "id": "43bd6831",
   "metadata": {},
   "outputs": [
    {
     "data": {
      "text/plain": [
       "(1332, 7)"
      ]
     },
     "execution_count": 7,
     "metadata": {},
     "output_type": "execute_result"
    }
   ],
   "source": [
    "filtered_df.shape"
   ]
  },
  {
   "cell_type": "code",
   "execution_count": 8,
   "id": "7b87207f",
   "metadata": {},
   "outputs": [
    {
     "name": "stdout",
     "output_type": "stream",
     "text": [
      "<class 'pandas.core.frame.DataFrame'>\n",
      "RangeIndex: 1332 entries, 0 to 1331\n",
      "Data columns (total 7 columns):\n",
      " #   Column           Non-Null Count  Dtype  \n",
      "---  ------           --------------  -----  \n",
      " 0   STATISTIC Label  1332 non-null   object \n",
      " 1   Year             1332 non-null   int64  \n",
      " 2   Month            1332 non-null   object \n",
      " 3   Country          1332 non-null   object \n",
      " 4   Direction        1332 non-null   object \n",
      " 5   UNIT             1332 non-null   object \n",
      " 6   VALUE            1328 non-null   float64\n",
      "dtypes: float64(1), int64(1), object(5)\n",
      "memory usage: 73.0+ KB\n"
     ]
    }
   ],
   "source": [
    "# This provides me with information such as the datatypes. \n",
    "filtered_df.info()"
   ]
  },
  {
   "cell_type": "code",
   "execution_count": 9,
   "id": "abb81e5e",
   "metadata": {},
   "outputs": [
    {
     "data": {
      "text/html": [
       "<div>\n",
       "<style scoped>\n",
       "    .dataframe tbody tr th:only-of-type {\n",
       "        vertical-align: middle;\n",
       "    }\n",
       "\n",
       "    .dataframe tbody tr th {\n",
       "        vertical-align: top;\n",
       "    }\n",
       "\n",
       "    .dataframe thead th {\n",
       "        text-align: right;\n",
       "    }\n",
       "</style>\n",
       "<table border=\"1\" class=\"dataframe\">\n",
       "  <thead>\n",
       "    <tr style=\"text-align: right;\">\n",
       "      <th></th>\n",
       "      <th>Year</th>\n",
       "      <th>VALUE</th>\n",
       "    </tr>\n",
       "  </thead>\n",
       "  <tbody>\n",
       "    <tr>\n",
       "      <th>count</th>\n",
       "      <td>1332.000000</td>\n",
       "      <td>1328.000000</td>\n",
       "    </tr>\n",
       "    <tr>\n",
       "      <th>mean</th>\n",
       "      <td>2022.054054</td>\n",
       "      <td>132.897816</td>\n",
       "    </tr>\n",
       "    <tr>\n",
       "      <th>std</th>\n",
       "      <td>0.868563</td>\n",
       "      <td>321.662704</td>\n",
       "    </tr>\n",
       "    <tr>\n",
       "      <th>min</th>\n",
       "      <td>2021.000000</td>\n",
       "      <td>0.000000</td>\n",
       "    </tr>\n",
       "    <tr>\n",
       "      <th>25%</th>\n",
       "      <td>2021.000000</td>\n",
       "      <td>11.075000</td>\n",
       "    </tr>\n",
       "    <tr>\n",
       "      <th>50%</th>\n",
       "      <td>2022.000000</td>\n",
       "      <td>34.600000</td>\n",
       "    </tr>\n",
       "    <tr>\n",
       "      <th>75%</th>\n",
       "      <td>2023.000000</td>\n",
       "      <td>91.125000</td>\n",
       "    </tr>\n",
       "    <tr>\n",
       "      <th>max</th>\n",
       "      <td>2024.000000</td>\n",
       "      <td>2270.700000</td>\n",
       "    </tr>\n",
       "  </tbody>\n",
       "</table>\n",
       "</div>"
      ],
      "text/plain": [
       "              Year        VALUE\n",
       "count  1332.000000  1328.000000\n",
       "mean   2022.054054   132.897816\n",
       "std       0.868563   321.662704\n",
       "min    2021.000000     0.000000\n",
       "25%    2021.000000    11.075000\n",
       "50%    2022.000000    34.600000\n",
       "75%    2023.000000    91.125000\n",
       "max    2024.000000  2270.700000"
      ]
     },
     "execution_count": 9,
     "metadata": {},
     "output_type": "execute_result"
    }
   ],
   "source": [
    "filtered_df.describe()\n",
    "# because only value and year is an integer type (float) I am only returned with two coulmn of data for my statistical analsis "
   ]
  },
  {
   "cell_type": "code",
   "execution_count": 10,
   "id": "d7c973ba",
   "metadata": {},
   "outputs": [
    {
     "data": {
      "text/plain": [
       "STATISTIC Label    0\n",
       "Year               0\n",
       "Month              0\n",
       "Country            0\n",
       "Direction          0\n",
       "UNIT               0\n",
       "VALUE              4\n",
       "dtype: int64"
      ]
     },
     "execution_count": 10,
     "metadata": {},
     "output_type": "execute_result"
    }
   ],
   "source": [
    "filtered_df.isnull().sum()"
   ]
  },
  {
   "cell_type": "code",
   "execution_count": 11,
   "id": "b67f34b3",
   "metadata": {},
   "outputs": [],
   "source": [
    "# Checking against some malform data - get reference about malform data\n",
    "mal = [\"n.a\", \"?\", \"NA\", \"n/a\", \"na\", \"--\"]\n",
    "filtered_df = pd.read_csv(\"airandtravel1.csv\" , na_values=mal)"
   ]
  },
  {
   "cell_type": "code",
   "execution_count": 12,
   "id": "64c2efb6",
   "metadata": {},
   "outputs": [
    {
     "data": {
      "text/plain": [
       "STATISTIC Label    0\n",
       "Year               0\n",
       "Month              0\n",
       "Country            0\n",
       "Direction          0\n",
       "UNIT               0\n",
       "VALUE              4\n",
       "dtype: int64"
      ]
     },
     "execution_count": 12,
     "metadata": {},
     "output_type": "execute_result"
    }
   ],
   "source": [
    "# No malform data recognised as result is the same as above. \n",
    "filtered_df.isnull().sum()"
   ]
  },
  {
   "cell_type": "code",
   "execution_count": 13,
   "id": "68a449fc",
   "metadata": {},
   "outputs": [],
   "source": [
    "mean_value = filtered_df['VALUE'].mean()\n",
    "\n",
    "# Fill NaN values with the mean of VALUE - give reference in report as to why this is important\n",
    "filtered_df['VALUE'].fillna(mean_value, inplace=True)"
   ]
  },
  {
   "cell_type": "code",
   "execution_count": 14,
   "id": "ddc3a4d7",
   "metadata": {},
   "outputs": [
    {
     "data": {
      "text/plain": [
       "STATISTIC Label    0\n",
       "Year               0\n",
       "Month              0\n",
       "Country            0\n",
       "Direction          0\n",
       "UNIT               0\n",
       "VALUE              0\n",
       "dtype: int64"
      ]
     },
     "execution_count": 14,
     "metadata": {},
     "output_type": "execute_result"
    }
   ],
   "source": [
    "# Now my dataset is clean and there are no NaN, mal or missing values\n",
    "filtered_df.isnull().sum()"
   ]
  },
  {
   "cell_type": "markdown",
   "id": "b745112a",
   "metadata": {},
   "source": [
    "## Where did Ireland's Tourists Come From? Visualisation"
   ]
  },
  {
   "cell_type": "code",
   "execution_count": 16,
   "id": "91b298f6",
   "metadata": {},
   "outputs": [],
   "source": [
    "import pandas as pd\n",
    "from geopy.geocoders import Nominatim\n",
    "import time  # Import time module for adding delays\n",
    "\n",
    "# Assuming filtered_df is your DataFrame\n",
    "# Initialize the geocoder with a unique user agent\n",
    "geolocator = Nominatim(user_agent=\"my_geocoder\")\n",
    "\n",
    "# Function to get latitude and longitude for a country\n",
    "def get_lat_long(country):\n",
    "    # Add a delay to respect rate limits\n",
    "    time.sleep(1)  # Sleep for 1 second between requests\n",
    "    location = geolocator.geocode(country)\n",
    "    if location:\n",
    "        return location.latitude, location.longitude\n",
    "    else:\n",
    "        return None, None\n",
    "\n",
    "# Add latitude and longitude columns to the DataFrame\n",
    "filtered_df['Latitude'], filtered_df['Longitude'] = zip(*filtered_df['Country'].apply(get_lat_long))\n"
   ]
  },
  {
   "cell_type": "code",
   "execution_count": 17,
   "id": "9304773c",
   "metadata": {},
   "outputs": [
    {
     "data": {
      "text/html": [
       "<div>\n",
       "<style scoped>\n",
       "    .dataframe tbody tr th:only-of-type {\n",
       "        vertical-align: middle;\n",
       "    }\n",
       "\n",
       "    .dataframe tbody tr th {\n",
       "        vertical-align: top;\n",
       "    }\n",
       "\n",
       "    .dataframe thead th {\n",
       "        text-align: right;\n",
       "    }\n",
       "</style>\n",
       "<table border=\"1\" class=\"dataframe\">\n",
       "  <thead>\n",
       "    <tr style=\"text-align: right;\">\n",
       "      <th></th>\n",
       "      <th>STATISTIC Label</th>\n",
       "      <th>Year</th>\n",
       "      <th>Month</th>\n",
       "      <th>Country</th>\n",
       "      <th>Direction</th>\n",
       "      <th>UNIT</th>\n",
       "      <th>VALUE</th>\n",
       "      <th>Latitude</th>\n",
       "      <th>Longitude</th>\n",
       "    </tr>\n",
       "  </thead>\n",
       "  <tbody>\n",
       "    <tr>\n",
       "      <th>0</th>\n",
       "      <td>Air and Sea Travel</td>\n",
       "      <td>2010</td>\n",
       "      <td>January</td>\n",
       "      <td>Great Britain</td>\n",
       "      <td>Arrivals</td>\n",
       "      <td>Thousand</td>\n",
       "      <td>361.5</td>\n",
       "      <td>54.315159</td>\n",
       "      <td>-1.918153</td>\n",
       "    </tr>\n",
       "    <tr>\n",
       "      <th>1</th>\n",
       "      <td>Air and Sea Travel</td>\n",
       "      <td>2010</td>\n",
       "      <td>January</td>\n",
       "      <td>Great Britain</td>\n",
       "      <td>Departures</td>\n",
       "      <td>Thousand</td>\n",
       "      <td>407.6</td>\n",
       "      <td>54.315159</td>\n",
       "      <td>-1.918153</td>\n",
       "    </tr>\n",
       "    <tr>\n",
       "      <th>2</th>\n",
       "      <td>Air and Sea Travel</td>\n",
       "      <td>2010</td>\n",
       "      <td>January</td>\n",
       "      <td>Other UK (1)</td>\n",
       "      <td>Arrivals</td>\n",
       "      <td>Thousand</td>\n",
       "      <td>0.9</td>\n",
       "      <td>NaN</td>\n",
       "      <td>NaN</td>\n",
       "    </tr>\n",
       "    <tr>\n",
       "      <th>3</th>\n",
       "      <td>Air and Sea Travel</td>\n",
       "      <td>2010</td>\n",
       "      <td>January</td>\n",
       "      <td>Other UK (1)</td>\n",
       "      <td>Departures</td>\n",
       "      <td>Thousand</td>\n",
       "      <td>1.1</td>\n",
       "      <td>NaN</td>\n",
       "      <td>NaN</td>\n",
       "    </tr>\n",
       "    <tr>\n",
       "      <th>4</th>\n",
       "      <td>Air and Sea Travel</td>\n",
       "      <td>2010</td>\n",
       "      <td>January</td>\n",
       "      <td>Belgium</td>\n",
       "      <td>Arrivals</td>\n",
       "      <td>Thousand</td>\n",
       "      <td>12.5</td>\n",
       "      <td>50.640281</td>\n",
       "      <td>4.666715</td>\n",
       "    </tr>\n",
       "  </tbody>\n",
       "</table>\n",
       "</div>"
      ],
      "text/plain": [
       "      STATISTIC Label  Year    Month        Country   Direction      UNIT  \\\n",
       "0  Air and Sea Travel  2010  January  Great Britain    Arrivals  Thousand   \n",
       "1  Air and Sea Travel  2010  January  Great Britain  Departures  Thousand   \n",
       "2  Air and Sea Travel  2010  January   Other UK (1)    Arrivals  Thousand   \n",
       "3  Air and Sea Travel  2010  January   Other UK (1)  Departures  Thousand   \n",
       "4  Air and Sea Travel  2010  January        Belgium    Arrivals  Thousand   \n",
       "\n",
       "   VALUE   Latitude  Longitude  \n",
       "0  361.5  54.315159  -1.918153  \n",
       "1  407.6  54.315159  -1.918153  \n",
       "2    0.9        NaN        NaN  \n",
       "3    1.1        NaN        NaN  \n",
       "4   12.5  50.640281   4.666715  "
      ]
     },
     "execution_count": 17,
     "metadata": {},
     "output_type": "execute_result"
    }
   ],
   "source": [
    "filtered_df.head()"
   ]
  },
  {
   "cell_type": "code",
   "execution_count": null,
   "id": "185b2ecf",
   "metadata": {},
   "outputs": [],
   "source": [
    "# other questions: where are they staying , counties, accomodations \n"
   ]
  },
  {
   "cell_type": "code",
   "execution_count": null,
   "id": "e73995cd",
   "metadata": {},
   "outputs": [],
   "source": []
  }
 ],
 "metadata": {
  "kernelspec": {
   "display_name": "Python 3 (ipykernel)",
   "language": "python",
   "name": "python3"
  },
  "language_info": {
   "codemirror_mode": {
    "name": "ipython",
    "version": 3
   },
   "file_extension": ".py",
   "mimetype": "text/x-python",
   "name": "python",
   "nbconvert_exporter": "python",
   "pygments_lexer": "ipython3",
   "version": "3.11.5"
  }
 },
 "nbformat": 4,
 "nbformat_minor": 5
}
