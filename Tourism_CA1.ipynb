{
 "cells": [
  {
   "cell_type": "code",
   "execution_count": 8,
   "id": "0f1333f1",
   "metadata": {},
   "outputs": [],
   "source": [
    "#importing all of the libraries that will be needed\n",
    "import pandas as pd \n",
    "import numpy as np\n",
    "import seaborn as sns #visualisation\n",
    "import matplotlib.pyplot as plt #visualisation\n",
    "%matplotlib inline \n",
    "sns.set(color_codes=True)\n",
    "import statistics as stats\n",
    "from IPython.display import display, HTML\n",
    "\n"
   ]
  },
  {
   "cell_type": "code",
   "execution_count": 7,
   "id": "c1cd74d0",
   "metadata": {},
   "outputs": [
    {
     "data": {
      "text/html": [
       "<img src=\"11.jpg\" style=\"width: 310px; margin: 0px; float: left;\" /><img src=\"12.jpg\" style=\"width: 310px; margin: 0px; float: left;\" /><img src=\"13.jpg\" style=\"width: 310px; margin: 0px; float: left;\" />"
      ],
      "text/plain": [
       "<IPython.core.display.HTML object>"
      ]
     },
     "metadata": {},
     "output_type": "display_data"
    }
   ],
   "source": [
    "# Inserting some images that is related to the assignment topic\n",
    "\n",
    "# Paths to my image files\n",
    "image_paths = ['11.jpg', '12.jpg', '13.jpg']\n",
    "\n",
    "# Generate HTML code to display images side by side\n",
    "images_html = ''.join([f'<img src=\"{path}\" style=\"width: 310px; margin: 0px; float: left;\" />' for path in image_paths])\n",
    "\n",
    "# Display HTML code\n",
    "display(HTML(images_html))"
   ]
  },
  {
   "cell_type": "code",
   "execution_count": null,
   "id": "22eec046",
   "metadata": {},
   "outputs": [],
   "source": []
  }
 ],
 "metadata": {
  "kernelspec": {
   "display_name": "Python 3 (ipykernel)",
   "language": "python",
   "name": "python3"
  },
  "language_info": {
   "codemirror_mode": {
    "name": "ipython",
    "version": 3
   },
   "file_extension": ".py",
   "mimetype": "text/x-python",
   "name": "python",
   "nbconvert_exporter": "python",
   "pygments_lexer": "ipython3",
   "version": "3.11.5"
  }
 },
 "nbformat": 4,
 "nbformat_minor": 5
}
