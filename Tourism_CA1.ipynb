{
 "cells": [
  {
   "cell_type": "code",
   "execution_count": 1,
   "id": "57971c7b",
   "metadata": {},
   "outputs": [],
   "source": [
    "#importing all of the libraries that will be needed\n",
    "import pandas as pd \n",
    "import numpy as np\n",
    "import seaborn as sns #visualisation\n",
    "import matplotlib.pyplot as plt #visualisation\n",
    "%matplotlib inline \n",
    "sns.set(color_codes=True)\n",
    "import statistics as stats\n",
    "from IPython.display import display, HTML"
   ]
  },
  {
   "cell_type": "code",
   "execution_count": 2,
   "id": "8c7bb326",
   "metadata": {},
   "outputs": [
    {
     "data": {
      "text/html": [
       "<img src=\"11.jpg\" style=\"width: 310px; margin: 0px; float: left;\" /><img src=\"12.jpg\" style=\"width: 310px; margin: 0px; float: left;\" /><img src=\"13.jpg\" style=\"width: 310px; margin: 0px; float: left;\" />"
      ],
      "text/plain": [
       "<IPython.core.display.HTML object>"
      ]
     },
     "metadata": {},
     "output_type": "display_data"
    }
   ],
   "source": [
    "# Inserting some images that is related to the assignment topic\n",
    "\n",
    "# Paths to my image files\n",
    "image_paths = ['11.jpg', '12.jpg', '13.jpg']\n",
    "\n",
    "# Generate HTML code to display images side by side\n",
    "images_html = ''.join([f'<img src=\"{path}\" style=\"width: 310px; margin: 0px; float: left;\" />' for path in image_paths])\n",
    "\n",
    "# Display HTML code\n",
    "display(HTML(images_html))"
   ]
  },
  {
   "cell_type": "code",
   "execution_count": 3,
   "id": "3d8d9730",
   "metadata": {},
   "outputs": [],
   "source": [
    "#Read files from the URL into the pandas DataFrame\n",
    "# make sure to reference where you got the dataswt (CSO - Tourism)\n",
    "url = \"airandtravel1.csv\"\n",
    "df = pd.read_csv(url) "
   ]
  },
  {
   "cell_type": "markdown",
   "id": "30e40352",
   "metadata": {},
   "source": [
    "## Where did Ireland's Tourists Come From? Cleaning and Preperation\n",
    "This section will aim use data preperation methods such a `.head()` , `.shape`, `describe`, `info.()` etc to clean and sort the data first"
   ]
  },
  {
   "cell_type": "code",
   "execution_count": 4,
   "id": "66065d39",
   "metadata": {},
   "outputs": [
    {
     "data": {
      "text/html": [
       "<div>\n",
       "<style scoped>\n",
       "    .dataframe tbody tr th:only-of-type {\n",
       "        vertical-align: middle;\n",
       "    }\n",
       "\n",
       "    .dataframe tbody tr th {\n",
       "        vertical-align: top;\n",
       "    }\n",
       "\n",
       "    .dataframe thead th {\n",
       "        text-align: right;\n",
       "    }\n",
       "</style>\n",
       "<table border=\"1\" class=\"dataframe\">\n",
       "  <thead>\n",
       "    <tr style=\"text-align: right;\">\n",
       "      <th></th>\n",
       "      <th>STATISTIC Label</th>\n",
       "      <th>Year</th>\n",
       "      <th>Month</th>\n",
       "      <th>Country</th>\n",
       "      <th>Direction</th>\n",
       "      <th>UNIT</th>\n",
       "      <th>VALUE</th>\n",
       "    </tr>\n",
       "  </thead>\n",
       "  <tbody>\n",
       "    <tr>\n",
       "      <th>0</th>\n",
       "      <td>Air and Sea Travel</td>\n",
       "      <td>2010</td>\n",
       "      <td>January</td>\n",
       "      <td>Great Britain</td>\n",
       "      <td>Arrivals</td>\n",
       "      <td>Thousand</td>\n",
       "      <td>361.5</td>\n",
       "    </tr>\n",
       "    <tr>\n",
       "      <th>1</th>\n",
       "      <td>Air and Sea Travel</td>\n",
       "      <td>2010</td>\n",
       "      <td>January</td>\n",
       "      <td>Great Britain</td>\n",
       "      <td>Departures</td>\n",
       "      <td>Thousand</td>\n",
       "      <td>407.6</td>\n",
       "    </tr>\n",
       "    <tr>\n",
       "      <th>2</th>\n",
       "      <td>Air and Sea Travel</td>\n",
       "      <td>2010</td>\n",
       "      <td>January</td>\n",
       "      <td>Other UK (1)</td>\n",
       "      <td>Arrivals</td>\n",
       "      <td>Thousand</td>\n",
       "      <td>0.9</td>\n",
       "    </tr>\n",
       "    <tr>\n",
       "      <th>3</th>\n",
       "      <td>Air and Sea Travel</td>\n",
       "      <td>2010</td>\n",
       "      <td>January</td>\n",
       "      <td>Other UK (1)</td>\n",
       "      <td>Departures</td>\n",
       "      <td>Thousand</td>\n",
       "      <td>1.1</td>\n",
       "    </tr>\n",
       "    <tr>\n",
       "      <th>4</th>\n",
       "      <td>Air and Sea Travel</td>\n",
       "      <td>2010</td>\n",
       "      <td>January</td>\n",
       "      <td>Belgium</td>\n",
       "      <td>Arrivals</td>\n",
       "      <td>Thousand</td>\n",
       "      <td>12.5</td>\n",
       "    </tr>\n",
       "  </tbody>\n",
       "</table>\n",
       "</div>"
      ],
      "text/plain": [
       "      STATISTIC Label  Year    Month        Country   Direction      UNIT  \\\n",
       "0  Air and Sea Travel  2010  January  Great Britain    Arrivals  Thousand   \n",
       "1  Air and Sea Travel  2010  January  Great Britain  Departures  Thousand   \n",
       "2  Air and Sea Travel  2010  January   Other UK (1)    Arrivals  Thousand   \n",
       "3  Air and Sea Travel  2010  January   Other UK (1)  Departures  Thousand   \n",
       "4  Air and Sea Travel  2010  January        Belgium    Arrivals  Thousand   \n",
       "\n",
       "   VALUE  \n",
       "0  361.5  \n",
       "1  407.6  \n",
       "2    0.9  \n",
       "3    1.1  \n",
       "4   12.5  "
      ]
     },
     "execution_count": 4,
     "metadata": {},
     "output_type": "execute_result"
    }
   ],
   "source": [
    "# is there an increase in certain countries? Let's experiment \n",
    "# which countries spent the most money, are they increasling spending money YoY\n",
    "# how much money can ireland expect in 2024/2025 : ML\n",
    "\n",
    "#Using .head() to get a sense for the data, its structure and content\n",
    "df.head()"
   ]
  },
  {
   "cell_type": "code",
   "execution_count": 5,
   "id": "b1d15c09",
   "metadata": {},
   "outputs": [
    {
     "data": {
      "text/plain": [
       "(6084, 7)"
      ]
     },
     "execution_count": 5,
     "metadata": {},
     "output_type": "execute_result"
    }
   ],
   "source": [
    "df.shape"
   ]
  },
  {
   "cell_type": "code",
   "execution_count": 6,
   "id": "25844a14",
   "metadata": {},
   "outputs": [
    {
     "name": "stdout",
     "output_type": "stream",
     "text": [
      "Percentage of 'thousand' in the 'UNIT' column: 100.0\n"
     ]
    }
   ],
   "source": [
    "# Count occurrences of \"thousand\" in the 'UNIT' feature. If 100% of data in this unit is thousand we will drop the column\n",
    "#Reason for this is it is ir\n",
    "thousand_count = (df['UNIT'] == 'Thousand').sum()\n",
    "\n",
    "# Calculating total number of observations\n",
    "total_rows = len(df)\n",
    "\n",
    "# Calculate percentage of times out of 100 that 'Thousand' was the unit of measurement \n",
    "percentage_thousand = (thousand_count / total_rows) * 100\n",
    "\n",
    "print(\"Percentage of 'thousand' in the 'UNIT' column:\", percentage_thousand)\n",
    "\n",
    "# for report - need reference \n",
    "#it's perfectly fine to drop a column if it contains the exact same value for all rows in the DataFrame, especially if that value doesn't provide any additional information beyond what's already known or can be communicated through metadata or other means.\n",
    "#In your case, if the 'UNIT' column contains the same value ('thousands') for all rows and this information is already conveyed to the reader or user of the data, there's no need to keep that column in the DataFrame. You can safely drop it to simplify the structure of your DataFrame and make it more efficient.\n",
    "#Dropping such redundant columns can improve the clarity and efficiency of your data analysis and visualization processes\n"
   ]
  },
  {
   "cell_type": "code",
   "execution_count": 7,
   "id": "662a5b59",
   "metadata": {},
   "outputs": [],
   "source": [
    "# Drop the 'UNIT' column\n",
    "df.drop(columns=['UNIT'], inplace=True)"
   ]
  },
  {
   "cell_type": "code",
   "execution_count": 8,
   "id": "a2dc598c",
   "metadata": {},
   "outputs": [],
   "source": [
    "# only keep the observations that are arrivals\n",
    "df_update = df[df['Direction'] == 'Arrivals']"
   ]
  },
  {
   "cell_type": "code",
   "execution_count": 9,
   "id": "72080013",
   "metadata": {},
   "outputs": [
    {
     "data": {
      "text/html": [
       "<div>\n",
       "<style scoped>\n",
       "    .dataframe tbody tr th:only-of-type {\n",
       "        vertical-align: middle;\n",
       "    }\n",
       "\n",
       "    .dataframe tbody tr th {\n",
       "        vertical-align: top;\n",
       "    }\n",
       "\n",
       "    .dataframe thead th {\n",
       "        text-align: right;\n",
       "    }\n",
       "</style>\n",
       "<table border=\"1\" class=\"dataframe\">\n",
       "  <thead>\n",
       "    <tr style=\"text-align: right;\">\n",
       "      <th></th>\n",
       "      <th>STATISTIC Label</th>\n",
       "      <th>Year</th>\n",
       "      <th>Month</th>\n",
       "      <th>Country</th>\n",
       "      <th>Direction</th>\n",
       "      <th>VALUE</th>\n",
       "    </tr>\n",
       "  </thead>\n",
       "  <tbody>\n",
       "    <tr>\n",
       "      <th>0</th>\n",
       "      <td>Air and Sea Travel</td>\n",
       "      <td>2010</td>\n",
       "      <td>January</td>\n",
       "      <td>Great Britain</td>\n",
       "      <td>Arrivals</td>\n",
       "      <td>361.5</td>\n",
       "    </tr>\n",
       "    <tr>\n",
       "      <th>2</th>\n",
       "      <td>Air and Sea Travel</td>\n",
       "      <td>2010</td>\n",
       "      <td>January</td>\n",
       "      <td>Other UK (1)</td>\n",
       "      <td>Arrivals</td>\n",
       "      <td>0.9</td>\n",
       "    </tr>\n",
       "    <tr>\n",
       "      <th>4</th>\n",
       "      <td>Air and Sea Travel</td>\n",
       "      <td>2010</td>\n",
       "      <td>January</td>\n",
       "      <td>Belgium</td>\n",
       "      <td>Arrivals</td>\n",
       "      <td>12.5</td>\n",
       "    </tr>\n",
       "    <tr>\n",
       "      <th>6</th>\n",
       "      <td>Air and Sea Travel</td>\n",
       "      <td>2010</td>\n",
       "      <td>January</td>\n",
       "      <td>Germany</td>\n",
       "      <td>Arrivals</td>\n",
       "      <td>45.3</td>\n",
       "    </tr>\n",
       "    <tr>\n",
       "      <th>8</th>\n",
       "      <td>Air and Sea Travel</td>\n",
       "      <td>2010</td>\n",
       "      <td>January</td>\n",
       "      <td>Spain</td>\n",
       "      <td>Arrivals</td>\n",
       "      <td>68.6</td>\n",
       "    </tr>\n",
       "  </tbody>\n",
       "</table>\n",
       "</div>"
      ],
      "text/plain": [
       "      STATISTIC Label  Year    Month        Country Direction  VALUE\n",
       "0  Air and Sea Travel  2010  January  Great Britain  Arrivals  361.5\n",
       "2  Air and Sea Travel  2010  January   Other UK (1)  Arrivals    0.9\n",
       "4  Air and Sea Travel  2010  January        Belgium  Arrivals   12.5\n",
       "6  Air and Sea Travel  2010  January        Germany  Arrivals   45.3\n",
       "8  Air and Sea Travel  2010  January          Spain  Arrivals   68.6"
      ]
     },
     "execution_count": 9,
     "metadata": {},
     "output_type": "execute_result"
    }
   ],
   "source": [
    "# check to see the head \n",
    "df_update.head()"
   ]
  },
  {
   "cell_type": "code",
   "execution_count": 10,
   "id": "639a031d",
   "metadata": {},
   "outputs": [],
   "source": [
    "#Here i am dropping any data before 2021, as I was to work with the timeframe 2021-2023\n",
    "df_filtered = df_update[df_update['Year'] >= 2021]\n",
    "\n",
    "# Reset index \n",
    "df_filtered.reset_index(drop=True, inplace=True)\n",
    "\n",
    "#my df is now called df_filtered"
   ]
  },
  {
   "cell_type": "code",
   "execution_count": 11,
   "id": "7c245d11",
   "metadata": {},
   "outputs": [
    {
     "data": {
      "text/plain": [
       "(666, 6)"
      ]
     },
     "execution_count": 11,
     "metadata": {},
     "output_type": "execute_result"
    }
   ],
   "source": [
    "df_filtered.shape"
   ]
  },
  {
   "cell_type": "code",
   "execution_count": 12,
   "id": "7cff01a2",
   "metadata": {},
   "outputs": [
    {
     "name": "stdout",
     "output_type": "stream",
     "text": [
      "<class 'pandas.core.frame.DataFrame'>\n",
      "RangeIndex: 666 entries, 0 to 665\n",
      "Data columns (total 6 columns):\n",
      " #   Column           Non-Null Count  Dtype  \n",
      "---  ------           --------------  -----  \n",
      " 0   STATISTIC Label  666 non-null    object \n",
      " 1   Year             666 non-null    int64  \n",
      " 2   Month            666 non-null    object \n",
      " 3   Country          666 non-null    object \n",
      " 4   Direction        666 non-null    object \n",
      " 5   VALUE            664 non-null    float64\n",
      "dtypes: float64(1), int64(1), object(4)\n",
      "memory usage: 31.3+ KB\n"
     ]
    }
   ],
   "source": [
    "# This provides me with information such as the datatypes. \n",
    "df_filtered.info()"
   ]
  },
  {
   "cell_type": "code",
   "execution_count": 13,
   "id": "7847871c",
   "metadata": {},
   "outputs": [
    {
     "data": {
      "text/html": [
       "<div>\n",
       "<style scoped>\n",
       "    .dataframe tbody tr th:only-of-type {\n",
       "        vertical-align: middle;\n",
       "    }\n",
       "\n",
       "    .dataframe tbody tr th {\n",
       "        vertical-align: top;\n",
       "    }\n",
       "\n",
       "    .dataframe thead th {\n",
       "        text-align: right;\n",
       "    }\n",
       "</style>\n",
       "<table border=\"1\" class=\"dataframe\">\n",
       "  <thead>\n",
       "    <tr style=\"text-align: right;\">\n",
       "      <th></th>\n",
       "      <th>Year</th>\n",
       "      <th>VALUE</th>\n",
       "    </tr>\n",
       "  </thead>\n",
       "  <tbody>\n",
       "    <tr>\n",
       "      <th>count</th>\n",
       "      <td>666.000000</td>\n",
       "      <td>664.000000</td>\n",
       "    </tr>\n",
       "    <tr>\n",
       "      <th>mean</th>\n",
       "      <td>2022.054054</td>\n",
       "      <td>132.956627</td>\n",
       "    </tr>\n",
       "    <tr>\n",
       "      <th>std</th>\n",
       "      <td>0.868889</td>\n",
       "      <td>322.234994</td>\n",
       "    </tr>\n",
       "    <tr>\n",
       "      <th>min</th>\n",
       "      <td>2021.000000</td>\n",
       "      <td>0.000000</td>\n",
       "    </tr>\n",
       "    <tr>\n",
       "      <th>25%</th>\n",
       "      <td>2021.000000</td>\n",
       "      <td>11.250000</td>\n",
       "    </tr>\n",
       "    <tr>\n",
       "      <th>50%</th>\n",
       "      <td>2022.000000</td>\n",
       "      <td>34.600000</td>\n",
       "    </tr>\n",
       "    <tr>\n",
       "      <th>75%</th>\n",
       "      <td>2023.000000</td>\n",
       "      <td>91.750000</td>\n",
       "    </tr>\n",
       "    <tr>\n",
       "      <th>max</th>\n",
       "      <td>2024.000000</td>\n",
       "      <td>2270.700000</td>\n",
       "    </tr>\n",
       "  </tbody>\n",
       "</table>\n",
       "</div>"
      ],
      "text/plain": [
       "              Year        VALUE\n",
       "count   666.000000   664.000000\n",
       "mean   2022.054054   132.956627\n",
       "std       0.868889   322.234994\n",
       "min    2021.000000     0.000000\n",
       "25%    2021.000000    11.250000\n",
       "50%    2022.000000    34.600000\n",
       "75%    2023.000000    91.750000\n",
       "max    2024.000000  2270.700000"
      ]
     },
     "execution_count": 13,
     "metadata": {},
     "output_type": "execute_result"
    }
   ],
   "source": [
    "df_filtered.describe()\n",
    "# because only value and year is an integer type (float) I am only returned with two coulmn of data for my statistical analsis "
   ]
  },
  {
   "cell_type": "code",
   "execution_count": 14,
   "id": "ee846323",
   "metadata": {},
   "outputs": [
    {
     "data": {
      "text/plain": [
       "STATISTIC Label    0\n",
       "Year               0\n",
       "Month              0\n",
       "Country            0\n",
       "Direction          0\n",
       "VALUE              2\n",
       "dtype: int64"
      ]
     },
     "execution_count": 14,
     "metadata": {},
     "output_type": "execute_result"
    }
   ],
   "source": [
    "df_filtered.isnull().sum()"
   ]
  },
  {
   "cell_type": "code",
   "execution_count": 15,
   "id": "ed52f973",
   "metadata": {},
   "outputs": [],
   "source": [
    "# Checking against some malform data - get reference about malform data\n",
    "mal = [\"n.a\", \"?\", \"NA\", \"n/a\", \"na\", \"--\"]\n",
    "df_filtered = pd.read_csv(\"airandtravel1.csv\" , na_values=mal)"
   ]
  },
  {
   "cell_type": "code",
   "execution_count": 16,
   "id": "126c3581",
   "metadata": {},
   "outputs": [
    {
     "data": {
      "text/plain": [
       "STATISTIC Label    0\n",
       "Year               0\n",
       "Month              0\n",
       "Country            0\n",
       "Direction          0\n",
       "UNIT               0\n",
       "VALUE              4\n",
       "dtype: int64"
      ]
     },
     "execution_count": 16,
     "metadata": {},
     "output_type": "execute_result"
    }
   ],
   "source": [
    "df_filtered.isnull().sum()"
   ]
  },
  {
   "cell_type": "code",
   "execution_count": 17,
   "id": "44c42674",
   "metadata": {},
   "outputs": [],
   "source": [
    "mean_value = df_filtered['VALUE'].mean()\n",
    "\n",
    "# Fill NaN values with the mean of VALUE - give reference in report as to why this is important\n",
    "df_filtered['VALUE'].fillna(mean_value, inplace=True)"
   ]
  },
  {
   "cell_type": "code",
   "execution_count": 18,
   "id": "9745cfcc",
   "metadata": {},
   "outputs": [
    {
     "data": {
      "text/plain": [
       "STATISTIC Label    0\n",
       "Year               0\n",
       "Month              0\n",
       "Country            0\n",
       "Direction          0\n",
       "UNIT               0\n",
       "VALUE              0\n",
       "dtype: int64"
      ]
     },
     "execution_count": 18,
     "metadata": {},
     "output_type": "execute_result"
    }
   ],
   "source": [
    "# Now my dataset is clean and there are no NaN, mal or missing values\n",
    "df_filtered.isnull().sum()"
   ]
  },
  {
   "cell_type": "markdown",
   "id": "09e40842",
   "metadata": {},
   "source": [
    "## Where did Ireland's Tourists Come From? Statistical Anaylsis"
   ]
  },
  {
   "cell_type": "code",
   "execution_count": null,
   "id": "343ec485",
   "metadata": {},
   "outputs": [],
   "source": []
  },
  {
   "cell_type": "markdown",
   "id": "6be7ad9e",
   "metadata": {},
   "source": [
    "## Where did Ireland's Tourists Come From? Visualisation"
   ]
  },
  {
   "cell_type": "code",
   "execution_count": null,
   "id": "e220a513",
   "metadata": {},
   "outputs": [],
   "source": [
    "from geopy.geocoders import Nominatim\n",
    "import time  # Import time module for adding delays\n",
    "\n",
    "# Assuming filtered_df is your DataFrame\n",
    "# Initialize the geocoder with a unique user agent\n",
    "geolocator = Nominatim(user_agent=\"my_geocoder\")\n",
    "\n",
    "# Function to get latitude and longitude for a country\n",
    "def get_lat_long(country):\n",
    "    # Add a delay to respect rate limits\n",
    "    time.sleep(1)  # Sleep for 1 second between requests\n",
    "    location = geolocator.geocode(country)\n",
    "    if location:\n",
    "        return location.latitude, location.longitude\n",
    "    else:\n",
    "        return None, None\n",
    "\n",
    "# Add latitude and longitude columns to the DataFrame\n",
    "df_filtered['Latitude'], df_filtered['Longitude'] = zip(*df_filtered['Country'].apply(get_lat_long))\n"
   ]
  },
  {
   "cell_type": "code",
   "execution_count": null,
   "id": "1da2e14d",
   "metadata": {},
   "outputs": [],
   "source": [
    "df_filtered.head()"
   ]
  },
  {
   "cell_type": "code",
   "execution_count": null,
   "id": "f48029b4",
   "metadata": {},
   "outputs": [],
   "source": [
    "import folium\n",
    "from folium.plugins import HeatMap\n",
    "\n",
    "\n",
    "# Create a folium map centered on the mean latitude and longitude\n",
    "#m = folium.Map(location=[nasa_df['latitude'].mean(), nasa_df['longitude'].mean()], zoom_start=5)\n",
    "m = folium.Map(location=[0, 0], zoom_start=4)\n",
    "\n",
    "# Add a heatmap layer using the latitude and longitude data\n",
    "heat_data = [[row['Latitude'], row['Longitude']] for index, row in df_filtered.iterrows()]\n",
    "HeatMap(heat_data).add_to(m)\n",
    "\n",
    "# Save the map to an HTML file\n",
    "m.save('heatmap.html')\n",
    "\n",
    "m\n",
    "\n",
    "#Blue areas signify regions with fewer meteorite landings.\n",
    "#Red areas signify regions with more meteorite landings.\n"
   ]
  },
  {
   "cell_type": "code",
   "execution_count": null,
   "id": "510fb96f",
   "metadata": {},
   "outputs": [],
   "source": [
    "# other questions: where are they staying , counties, accomodations \n"
   ]
  },
  {
   "cell_type": "code",
   "execution_count": null,
   "id": "bab6cfcf",
   "metadata": {},
   "outputs": [],
   "source": []
  }
 ],
 "metadata": {
  "kernelspec": {
   "display_name": "Python 3 (ipykernel)",
   "language": "python",
   "name": "python3"
  },
  "language_info": {
   "codemirror_mode": {
    "name": "ipython",
    "version": 3
   },
   "file_extension": ".py",
   "mimetype": "text/x-python",
   "name": "python",
   "nbconvert_exporter": "python",
   "pygments_lexer": "ipython3",
   "version": "3.11.5"
  }
 },
 "nbformat": 4,
 "nbformat_minor": 5
}
